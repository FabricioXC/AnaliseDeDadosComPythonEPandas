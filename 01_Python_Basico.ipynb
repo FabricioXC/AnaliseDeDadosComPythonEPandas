{
  "nbformat": 4,
  "nbformat_minor": 0,
  "metadata": {
    "colab": {
      "name": "01_Python_Basico.ipynb",
      "provenance": [],
      "authorship_tag": "ABX9TyMuzFWhLD7e3zjvhtOdGQS5",
      "include_colab_link": true
    },
    "kernelspec": {
      "name": "python3",
      "display_name": "Python 3"
    },
    "language_info": {
      "name": "python"
    }
  },
  "cells": [
    {
      "cell_type": "markdown",
      "metadata": {
        "id": "view-in-github",
        "colab_type": "text"
      },
      "source": [
        "<a href=\"https://colab.research.google.com/github/FabricioXC/AnaliseDeDadosComPythonEPandas/blob/main/01_Python_Basico.ipynb\" target=\"_parent\"><img src=\"https://colab.research.google.com/assets/colab-badge.svg\" alt=\"Open In Colab\"/></a>"
      ]
    },
    {
      "cell_type": "markdown",
      "metadata": {
        "id": "UJ0l32x4Xc1F"
      },
      "source": [
        "###Python Básico"
      ]
    },
    {
      "cell_type": "code",
      "metadata": {
        "colab": {
          "base_uri": "https://localhost:8080/"
        },
        "id": "r_xDfv10Xl7h",
        "outputId": "8faea127-7e47-4312-94e5-4542930ced1f"
      },
      "source": [
        "# Exibir uma mensagem no terminal\n",
        "print('Olá Mundo')"
      ],
      "execution_count": 1,
      "outputs": [
        {
          "output_type": "stream",
          "name": "stdout",
          "text": [
            "Olá Mundo\n"
          ]
        }
      ]
    },
    {
      "cell_type": "code",
      "metadata": {
        "colab": {
          "base_uri": "https://localhost:8080/"
        },
        "id": "P4sG-27MZb-T",
        "outputId": "00a35e25-e83f-4aac-9548-ca89aa5bb28a"
      },
      "source": [
        "print('Estou Aprendendo Python')"
      ],
      "execution_count": 2,
      "outputs": [
        {
          "output_type": "stream",
          "name": "stdout",
          "text": [
            "Estou Aprendendo Python\n"
          ]
        }
      ]
    }
  ]
}